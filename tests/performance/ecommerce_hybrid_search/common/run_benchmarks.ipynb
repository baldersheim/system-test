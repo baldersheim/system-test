{
 "cells": [
  {
   "cell_type": "markdown",
   "metadata": {},
   "source": [
    "Copyright Vespa.ai. Licensed under the terms of the Apache 2.0 license. See LICENSE in the project root.\n"
   ]
  },
  {
   "cell_type": "markdown",
   "metadata": {},
   "source": [
    "# ES\n"
   ]
  },
  {
   "cell_type": "markdown",
   "metadata": {},
   "source": [
    "## Running the Elasticsearch docker container\n"
   ]
  },
  {
   "cell_type": "markdown",
   "metadata": {},
   "source": [
    "```bash\n",
    "docker run -p 9200:9200 -d --name elasticsearch --rm \\\n",
    "  -e \"discovery.type=single-node\" \\\n",
    "  -e \"xpack.security.enabled=false\" \\\n",
    "  -e \"xpack.security.http.ssl.enabled=false\" \\\n",
    "  -e \"xpack.license.self_generated.type=trial\" \\\n",
    "  docker.elastic.co/elasticsearch/elasticsearch:8.13.2\n",
    "```\n"
   ]
  },
  {
   "cell_type": "code",
   "execution_count": null,
   "metadata": {},
   "outputs": [],
   "source": [
    "!docker info"
   ]
  },
  {
   "cell_type": "code",
   "execution_count": null,
   "metadata": {},
   "outputs": [],
   "source": [
    "import docker\n",
    "\n",
    "client = docker.from_env()\n",
    "docker_network = \"my_network\"\n",
    "\n",
    "# Create a network if it does not exist\n",
    "try:\n",
    "    client.networks.get(docker_network)\n",
    "    print(f\"Network {docker_network} already exists\")\n",
    "except docker.errors.NotFound:\n",
    "    client.networks.create(docker_network, driver=\"bridge\")\n",
    "    print(f\"Network {docker_network} created\")\n",
    "\n",
    "container = client.containers.run(\n",
    "    \"docker.elastic.co/elasticsearch/elasticsearch:8.13.2\",\n",
    "    detach=True,\n",
    "    ports={\"9200/tcp\": 9200},\n",
    "    network=docker_network,\n",
    "    name=\"elasticsearch\",\n",
    "    environment=[\n",
    "        \"discovery.type=single-node\",\n",
    "        \"xpack.security.enabled=false\",\n",
    "        \"xpack.security.http.ssl.enabled=false\",\n",
    "        \"xpack.license.self_generated.type=trial\",\n",
    "    ],\n",
    ")\n",
    "# Wait until container is ready\n",
    "container.reload()"
   ]
  },
  {
   "cell_type": "code",
   "execution_count": null,
   "metadata": {},
   "outputs": [],
   "source": [
    "from elasticsearch import Elasticsearch\n",
    "import json\n",
    "import time\n",
    "\n",
    "es = Elasticsearch(\"http://localhost:9200\")\n",
    "timeout = 30\n",
    "while not es.ping():\n",
    "    timeout -= 1\n",
    "    if timeout == 0:\n",
    "        raise TimeoutError(\"Elasticsearch is not ready\")\n",
    "    time.sleep(1)"
   ]
  },
  {
   "cell_type": "code",
   "execution_count": null,
   "metadata": {},
   "outputs": [],
   "source": [
    "index_name = \"product\"\n",
    "\n",
    "# Delete the index if it exists\n",
    "if es.indices.exists(index=index_name):\n",
    "    es.indices.delete(index=index_name)"
   ]
  },
  {
   "cell_type": "code",
   "execution_count": null,
   "metadata": {},
   "outputs": [],
   "source": [
    "index_settings = {\n",
    "    \"settings\": {\"number_of_shards\": 1, \"number_of_replicas\": 1},\n",
    "    \"mappings\": {\n",
    "        \"properties\": {\n",
    "            \"id\": {\"type\": \"integer\"},\n",
    "            \"title\": {\"type\": \"text\", \"similarity\": \"BM25\"},\n",
    "            \"description\": {\"type\": \"text\", \"similarity\": \"BM25\"},\n",
    "            \"category\": {\"type\": \"keyword\"},\n",
    "            \"price\": {\"type\": \"integer\"},\n",
    "            \"average_rating\": {\"type\": \"float\"},\n",
    "            \"embedding\": {\n",
    "                \"type\": \"dense_vector\",\n",
    "                \"dims\": 384,\n",
    "                \"index\": True,\n",
    "                \"similarity\": \"cosine\",\n",
    "                # See https://www.elastic.co/guide/en/elasticsearch/reference/current/dense-vector.html\n",
    "                \"index_options\": {\"type\": \"hnsw\", \"ef_construction\": 200, \"m\": 16},\n",
    "            },\n",
    "        },\n",
    "    },\n",
    "}\n",
    "\n",
    "# Create the index\n",
    "es.indices.create(index=index_name, body=index_settings)"
   ]
  },
  {
   "cell_type": "code",
   "execution_count": null,
   "metadata": {},
   "outputs": [],
   "source": [
    "# Pretty-print the mapping\n",
    "mapping = es.indices.get_mapping(index=index_name)\n",
    "mapping.raw"
   ]
  },
  {
   "cell_type": "markdown",
   "metadata": {},
   "source": [
    "## Feed the data to the Elasticsearch container\n"
   ]
  },
  {
   "cell_type": "code",
   "execution_count": null,
   "metadata": {},
   "outputs": [],
   "source": [
    "!sh feed_to_es.sh"
   ]
  },
  {
   "cell_type": "code",
   "execution_count": null,
   "metadata": {},
   "outputs": [],
   "source": [
    "es.indices.refresh(index=index_name)\n",
    "refresh_result = es.cat.count(index=index_name, params={\"format\": \"json\"})\n",
    "refresh_result"
   ]
  },
  {
   "cell_type": "code",
   "execution_count": null,
   "metadata": {},
   "outputs": [],
   "source": [
    "assert refresh_result[0][\"count\"] == \"1000000\""
   ]
  },
  {
   "cell_type": "markdown",
   "metadata": {},
   "source": [
    "For single file (<100MB):\n",
    "\n",
    "```bash\n",
    "curl -s -H \"Content-Type: application/x-ndjson\" -XPOST localhost:9200/_bulk --data-binary \"@../dataprep/output-data/final/es_feed-10k.json\"\n",
    "```\n"
   ]
  },
  {
   "cell_type": "markdown",
   "metadata": {},
   "source": [
    "## Query Elasticsearch\n"
   ]
  },
  {
   "cell_type": "markdown",
   "metadata": {},
   "source": [
    "### Common function to retrieve query from file\n"
   ]
  },
  {
   "cell_type": "code",
   "execution_count": null,
   "metadata": {},
   "outputs": [],
   "source": [
    "# Load the JSON data from the file\n",
    "def get_single_query(application: str = \"vespa\", query_mode: str = \"weak_and\") -> dict:\n",
    "    if application not in [\"vespa\", \"es\"]:\n",
    "        raise ValueError(\"format must be 'vespa' or 'es'\")\n",
    "    if query_mode not in [\"weak_and\", \"semantic\", \"hybrid\"]:\n",
    "        raise ValueError(\"query_mode must be 'weak_and', 'semantic', or 'hybrid'\")\n",
    "    filepath = (\n",
    "        f\"../dataprep/output-data/final/{application}_queries-{query_mode}-1.json\"\n",
    "    )\n",
    "    with open(filepath, \"r\") as file:\n",
    "        endpoint, query = file.read().splitlines()\n",
    "        query_dict = json.loads(query)\n",
    "    return query_dict"
   ]
  },
  {
   "cell_type": "code",
   "execution_count": null,
   "metadata": {},
   "outputs": [],
   "source": [
    "bm25_query = get_single_query(application=\"es\", query_mode=\"weak_and\")\n",
    "bm25_query"
   ]
  },
  {
   "cell_type": "code",
   "execution_count": null,
   "metadata": {},
   "outputs": [],
   "source": [
    "results = es.search(index=index_name, body=bm25_query)\n",
    "print(\"BM25 results: \", json.dumps(results.raw, indent=4))"
   ]
  },
  {
   "cell_type": "markdown",
   "metadata": {},
   "source": [
    "### Semantic Query\n"
   ]
  },
  {
   "cell_type": "code",
   "execution_count": null,
   "metadata": {},
   "outputs": [],
   "source": [
    "semantic_query = get_single_query(application=\"es\", query_mode=\"semantic\")\n",
    "results = es.search(index=index_name, body=semantic_query)\n",
    "print(\"Semantic search results:\", json.dumps(results.raw, indent=4))"
   ]
  },
  {
   "cell_type": "markdown",
   "metadata": {},
   "source": [
    "### Hybrid search - RRF\n"
   ]
  },
  {
   "cell_type": "code",
   "execution_count": null,
   "metadata": {},
   "outputs": [],
   "source": [
    "hybrid_query = get_single_query(application=\"es\", query_mode=\"hybrid\")\n",
    "results = es.search(index=index_name, body=hybrid_query)\n",
    "print(\"Hybrid search results:\", json.dumps(results.raw, indent=4))"
   ]
  },
  {
   "cell_type": "markdown",
   "metadata": {},
   "source": [
    "## Running fbench against ES-container\n"
   ]
  },
  {
   "cell_type": "markdown",
   "metadata": {},
   "source": [
    "Decompressing query-files\n"
   ]
  },
  {
   "cell_type": "code",
   "execution_count": null,
   "metadata": {},
   "outputs": [],
   "source": [
    "!for f in ../dataprep/output-data/final/es_queries-*-10k.json.zst; do zstd -d -f \"$f\" -o \"${f%.zst}\"; done"
   ]
  },
  {
   "cell_type": "markdown",
   "metadata": {},
   "source": [
    "### Docker command to run fbench against ES-container\n"
   ]
  },
  {
   "cell_type": "markdown",
   "metadata": {},
   "source": [
    "```bash\n",
    "docker run -v /Users/thomas/Repos/system-test/tests/performance/ecommerce_hybrid_search/dataprep/output-data/final:/files -w /files \\\n",
    "--network my_network \\\n",
    "--entrypoint /opt/vespa/bin/vespa-fbench \\\n",
    "vespaengine/vespa \\\n",
    " -c 0 -s 5 -n 1 -q es_queries-weak_and-10k.json -P -o fbench_output_es_weak_and.txt -D elasticsearch 9200\n",
    "```\n"
   ]
  },
  {
   "cell_type": "code",
   "execution_count": null,
   "metadata": {},
   "outputs": [],
   "source": [
    "# Define the options and base filenames\n",
    "options = [\"weak_and\", \"semantic\", \"hybrid\"]\n",
    "base_query_file = \"es_queries-{}-10k.json\"\n",
    "base_output_file = \"fbench_output_{}.txt\"\n",
    "result_file = \"fbench_results_{}.txt\"\n",
    "# Generate the configurations dynamically\n",
    "configs = [\n",
    "    {\n",
    "        \"option\": option,\n",
    "        \"query_file\": base_query_file.format(option),\n",
    "        \"output_file\": base_output_file.format(option),\n",
    "        \"result_file\": result_file.format(option),\n",
    "    }\n",
    "    for option in options\n",
    "]\n",
    "\n",
    "# Loop through each configuration and run the container\n",
    "for config in configs:\n",
    "    print(f\"Running fbench in container for {config['option']} queries\")\n",
    "    output = client.containers.run(\n",
    "        image=\"vespaengine/vespa\",\n",
    "        entrypoint=\"/opt/vespa/bin/vespa-fbench\",  # Set vespa-fbench as the entrypoint\n",
    "        network=docker_network,\n",
    "        command=[\n",
    "            \"-c\",\n",
    "            \"0\",\n",
    "            \"-s\",\n",
    "            \"30\",\n",
    "            \"-n\",\n",
    "            \"1\",\n",
    "            \"-q\",\n",
    "            config[\"query_file\"],\n",
    "            \"-P\",\n",
    "            \"-o\",\n",
    "            config[\"output_file\"],\n",
    "            \"-D\",\n",
    "            \"elasticsearch\",\n",
    "            \"9200\",\n",
    "        ],\n",
    "        volumes={\n",
    "            \"/Users/thomas/Repos/system-test/tests/performance/ecommerce_hybrid_search/dataprep/output-data/final\": {\n",
    "                \"bind\": \"/files\",\n",
    "                \"mode\": \"rw\",\n",
    "            }\n",
    "        },\n",
    "        working_dir=\"/files\",\n",
    "        detach=False,\n",
    "        remove=True,\n",
    "    )\n",
    "\n",
    "    # Wait for the container to finish and print the output\n",
    "    result = output.decode(\"utf-8\")\n",
    "    print(f\"Output for {config['option']} queries:\\n{result}\")\n",
    "    # Save results to a file\n",
    "    with open(config[\"result_file\"], \"w\") as file:\n",
    "        file.write(result)"
   ]
  },
  {
   "cell_type": "code",
   "execution_count": null,
   "metadata": {},
   "outputs": [],
   "source": [
    "# Stop the ES container\n",
    "container.stop()\n",
    "container.remove()"
   ]
  },
  {
   "cell_type": "code",
   "execution_count": null,
   "metadata": {},
   "outputs": [],
   "source": [
    "assert False  # Just to stop the execution here"
   ]
  },
  {
   "cell_type": "markdown",
   "metadata": {},
   "source": [
    "# Vespa\n"
   ]
  },
  {
   "cell_type": "markdown",
   "metadata": {},
   "source": [
    "## Starting the Vespa docker container\n",
    "\n",
    "Be sure that your docker engine is running, and has at least 24GB of memory allocated to it.\n"
   ]
  },
  {
   "cell_type": "code",
   "execution_count": 2,
   "metadata": {},
   "outputs": [
    {
     "name": "stdout",
     "output_type": "stream",
     "text": [
      "Network my_network already exists\n"
     ]
    }
   ],
   "source": [
    "import docker\n",
    "\n",
    "client = docker.from_env()\n",
    "docker_network = \"my_network\"\n",
    "container_name = \"vespa-ecommerce\"\n",
    "# Create a network if it does not exist\n",
    "try:\n",
    "    client.networks.get(docker_network)\n",
    "    print(f\"Network {docker_network} already exists\")\n",
    "except docker.errors.NotFound:\n",
    "    client.networks.create(docker_network, driver=\"bridge\")\n",
    "    print(f\"Network {docker_network} created\")\n",
    "\n",
    "container = client.containers.run(\n",
    "    \"vespaengine/vespa\",\n",
    "    detach=True,\n",
    "    ports={\"8080/tcp\": 8080, \"19071/tcp\": 19071},\n",
    "    network=docker_network,\n",
    "    name=container_name,\n",
    ")\n",
    "# Wait until container is ready\n",
    "container.reload()"
   ]
  },
  {
   "cell_type": "code",
   "execution_count": 132,
   "metadata": {},
   "outputs": [
    {
     "name": "stdout",
     "output_type": "stream",
     "text": [
      "Waiting for configuration server, 0/300 seconds...\n",
      "Waiting for configuration server, 5/300 seconds...\n",
      "Using plain http against endpoint http://localhost:8080/ApplicationStatus\n",
      "Waiting for application status, 0/300 seconds...\n",
      "Using plain http against endpoint http://localhost:8080/ApplicationStatus\n",
      "Waiting for application status, 5/300 seconds...\n",
      "Using plain http against endpoint http://localhost:8080/ApplicationStatus\n",
      "Waiting for application status, 10/300 seconds...\n",
      "Using plain http against endpoint http://localhost:8080/ApplicationStatus\n",
      "Application is up!\n",
      "Finished deployment.\n"
     ]
    }
   ],
   "source": [
    "from vespa.deployment import VespaDocker\n",
    "\n",
    "app_package_path = \"../app/\"\n",
    "\n",
    "vespa_docker = VespaDocker(container=container, port=8080)\n",
    "app_name = \"ecommerce\"\n",
    "\n",
    "app = vespa_docker.deploy_from_disk(\n",
    "    application_name=app_name, application_root=app_package_path\n",
    ")"
   ]
  },
  {
   "cell_type": "markdown",
   "metadata": {},
   "source": [
    "## Feed data to Vespa\n"
   ]
  },
  {
   "cell_type": "code",
   "execution_count": 130,
   "metadata": {},
   "outputs": [
    {
     "name": "stdout",
     "output_type": "stream",
     "text": [
      "pa_feed-20k.json.zst : 0 B...     "
     ]
    },
    {
     "name": "stdout",
     "output_type": "stream",
     "text": [
      "../dataprep/output-data/final/vespa_feed-20k.json.zst: 174607854 bytes         \n"
     ]
    }
   ],
   "source": [
    "!zstd -d -f ../dataprep/output-data/final/vespa_feed-20k.json.zst -o ../dataprep/output-data/final/vespa_feed-20k.json"
   ]
  },
  {
   "cell_type": "code",
   "execution_count": 133,
   "metadata": {},
   "outputs": [
    {
     "name": "stdout",
     "output_type": "stream",
     "text": [
      "{\n",
      "  \"feeder.operation.count\": 8013,\n",
      "  \"feeder.seconds\": 5.000,\n",
      "  \"feeder.ok.count\": 8013,\n",
      "  \"feeder.ok.rate\": 1602.554,\n",
      "  \"feeder.error.count\": 0,\n",
      "  \"feeder.inflight.count\": 901,\n",
      "  \"http.request.count\": 8013,\n",
      "  \"http.request.bytes\": 31061553,\n",
      "  \"http.request.MBps\": 6.212,\n",
      "  \"http.exception.count\": 0,\n",
      "  \"http.response.count\": 8013,\n",
      "  \"http.response.bytes\": 891158,\n",
      "  \"http.response.MBps\": 0.178,\n",
      "  \"http.response.error.count\": 0,\n",
      "  \"http.response.latency.millis.min\": 370,\n",
      "  \"http.response.latency.millis.avg\": 543,\n",
      "  \"http.response.latency.millis.max\": 1238,\n",
      "  \"http.response.code.counts\": {\n",
      "    \"200\": 8013\n",
      "  }\n",
      "}\n",
      "{\n",
      "  \"feeder.operation.count\": 18366,\n",
      "  \"feeder.seconds\": 10.000,\n",
      "  \"feeder.ok.count\": 18366,\n",
      "  \"feeder.ok.rate\": 1836.586,\n",
      "  \"feeder.error.count\": 0,\n",
      "  \"feeder.inflight.count\": 886,\n",
      "  \"http.request.count\": 18366,\n",
      "  \"http.request.bytes\": 71185335,\n",
      "  \"http.request.MBps\": 7.118,\n",
      "  \"http.exception.count\": 0,\n",
      "  \"http.response.count\": 18366,\n",
      "  \"http.response.bytes\": 2042622,\n",
      "  \"http.response.MBps\": 0.204,\n",
      "  \"http.response.error.count\": 0,\n",
      "  \"http.response.latency.millis.min\": 221,\n",
      "  \"http.response.latency.millis.avg\": 459,\n",
      "  \"http.response.latency.millis.max\": 1238,\n",
      "  \"http.response.code.counts\": {\n",
      "    \"200\": 18366\n",
      "  }\n",
      "}\n",
      "{\n",
      "  \"feeder.operation.count\": 20000,\n",
      "  \"feeder.seconds\": 10.739,\n",
      "  \"feeder.ok.count\": 20000,\n",
      "  \"feeder.ok.rate\": 1862.367,\n",
      "  \"feeder.error.count\": 0,\n",
      "  \"feeder.inflight.count\": 0,\n",
      "  \"http.request.count\": 20000,\n",
      "  \"http.request.bytes\": 77521786,\n",
      "  \"http.request.MBps\": 7.219,\n",
      "  \"http.exception.count\": 0,\n",
      "  \"http.response.count\": 20000,\n",
      "  \"http.response.bytes\": 2224280,\n",
      "  \"http.response.MBps\": 0.207,\n",
      "  \"http.response.error.count\": 0,\n",
      "  \"http.response.latency.millis.min\": 221,\n",
      "  \"http.response.latency.millis.avg\": 454,\n",
      "  \"http.response.latency.millis.max\": 1238,\n",
      "  \"http.response.code.counts\": {\n",
      "    \"200\": 20000\n",
      "  }\n",
      "}\n"
     ]
    }
   ],
   "source": [
    "!vespa config set target local\n",
    "# unzstd the file\n",
    "#!zstd -d -f ../dataprep/output-data/final/vespa_feed-1M.json.zst -o ../dataprep/output-data/final/vespa_feed-1M.json\n",
    "!vespa feed --progress 5 ../dataprep/output-data/final/vespa_feed-20k.json"
   ]
  },
  {
   "cell_type": "markdown",
   "metadata": {},
   "source": [
    "## Querying Vespa\n"
   ]
  },
  {
   "cell_type": "markdown",
   "metadata": {},
   "source": [
    "### BM25\n"
   ]
  },
  {
   "cell_type": "code",
   "execution_count": null,
   "metadata": {},
   "outputs": [],
   "source": [
    "bm25_query = get_single_query(application=\"vespa\", query_mode=\"weak_and\")\n",
    "bm25_query"
   ]
  },
  {
   "cell_type": "code",
   "execution_count": null,
   "metadata": {},
   "outputs": [],
   "source": [
    "from vespa.io import VespaQueryResponse\n",
    "\n",
    "response: VespaQueryResponse = app.query(\n",
    "    # Update to medium presentation summary\n",
    "    body={**bm25_query, \"presentation.summary\": \"medium\"}\n",
    ")\n",
    "print(json.dumps(response.hits[:3], indent=4))"
   ]
  },
  {
   "cell_type": "markdown",
   "metadata": {},
   "source": [
    "### Semantic search\n"
   ]
  },
  {
   "cell_type": "code",
   "execution_count": null,
   "metadata": {},
   "outputs": [],
   "source": [
    "semantic_query = get_single_query(application=\"vespa\", query_mode=\"semantic\")\n",
    "semantic_query"
   ]
  },
  {
   "cell_type": "code",
   "execution_count": null,
   "metadata": {},
   "outputs": [],
   "source": [
    "response: VespaQueryResponse = app.query(\n",
    "    # Update to medium presentation summary\n",
    "    body={**semantic_query, \"presentation.summary\": \"medium\"}\n",
    ")\n",
    "print(json.dumps(response.hits[:3], indent=4))"
   ]
  },
  {
   "cell_type": "markdown",
   "metadata": {},
   "source": [
    "### Hybrid query\n"
   ]
  },
  {
   "cell_type": "code",
   "execution_count": null,
   "metadata": {},
   "outputs": [],
   "source": [
    "hybrid_query = get_single_query(application=\"vespa\", query_mode=\"hybrid\")\n",
    "hybrid_query"
   ]
  },
  {
   "cell_type": "code",
   "execution_count": null,
   "metadata": {},
   "outputs": [],
   "source": [
    "response: VespaQueryResponse = app.query(\n",
    "    # Update to medium presentation summary\n",
    "    body={**hybrid_query, \"presentation.summary\": \"medium\"}\n",
    ")\n",
    "print(json.dumps(response.hits[:3], indent=4))"
   ]
  },
  {
   "cell_type": "markdown",
   "metadata": {},
   "source": [
    "## Running fbench against Vespa-container\n"
   ]
  },
  {
   "cell_type": "code",
   "execution_count": null,
   "metadata": {},
   "outputs": [],
   "source": [
    "!for f in ../dataprep/output-data/final/vespa_queries-*-10k.json.zst; do zstd -d -f \"$f\" -o \"${f%.zst}\"; done"
   ]
  },
  {
   "cell_type": "code",
   "execution_count": 6,
   "metadata": {},
   "outputs": [
    {
     "name": "stdout",
     "output_type": "stream",
     "text": [
      "Running fbench in container for weak_and queries\n",
      "Output for weak_and queries:\n",
      "Starting clients...\n",
      "Stopping clients\n",
      "Clients stopped.\n",
      ".\n",
      "Clients Joined.\n",
      "*** HTTP keep-alive statistics ***\n",
      "connection reuse count -- 11268\n",
      "***************** Benchmark Summary *****************\n",
      "clients:                       1\n",
      "ran for:                      30 seconds\n",
      "cycle time:                    0 ms\n",
      "lower response limit:          0 bytes\n",
      "skipped requests:              0\n",
      "failed requests:               0\n",
      "successful requests:       11269\n",
      "cycles not held:           11269\n",
      "minimum response time:      0.61 ms\n",
      "maximum response time:     44.27 ms\n",
      "average response time:      2.66 ms\n",
      "25   percentile:              1.90 ms\n",
      "50   percentile:              2.40 ms\n",
      "75   percentile:              3.00 ms\n",
      "90   percentile:              3.80 ms\n",
      "95   percentile:              4.50 ms\n",
      "98   percentile:              6.00 ms\n",
      "99   percentile:              8.10 ms\n",
      "99.5 percentile:             14.57 ms\n",
      "99.6 percentile:             15.88 ms\n",
      "99.7 percentile:             18.34 ms\n",
      "99.8 percentile:             19.34 ms\n",
      "99.9 percentile:             27.29 ms\n",
      "actual query rate:        375.95 Q/s\n",
      "utilization:               99.90 %\n",
      "zero hit queries:              0\n",
      "zero hit percentage:        0.00 %\n",
      "http request status breakdown:\n",
      "       200 :    11269 \n",
      "\n",
      "Running fbench in container for semantic queries\n",
      "Output for semantic queries:\n",
      "Starting clients...\n",
      "Stopping clients\n",
      "Clients stopped.\n",
      ".\n",
      "Clients Joined.\n",
      "*** HTTP keep-alive statistics ***\n",
      "connection reuse count -- 16827\n",
      "***************** Benchmark Summary *****************\n",
      "clients:                       1\n",
      "ran for:                      30 seconds\n",
      "cycle time:                    0 ms\n",
      "lower response limit:          0 bytes\n",
      "skipped requests:              0\n",
      "failed requests:               0\n",
      "successful requests:       16828\n",
      "cycles not held:           16828\n",
      "minimum response time:      0.91 ms\n",
      "maximum response time:     12.89 ms\n",
      "average response time:      1.76 ms\n",
      "25   percentile:              1.60 ms\n",
      "50   percentile:              1.70 ms\n",
      "75   percentile:              1.90 ms\n",
      "90   percentile:              2.10 ms\n",
      "95   percentile:              2.20 ms\n",
      "98   percentile:              2.30 ms\n",
      "99   percentile:              2.50 ms\n",
      "99.5 percentile:              2.69 ms\n",
      "99.6 percentile:              2.80 ms\n",
      "99.7 percentile:              2.90 ms\n",
      "99.8 percentile:              3.20 ms\n",
      "99.9 percentile:              3.70 ms\n",
      "actual query rate:        561.44 Q/s\n",
      "utilization:               98.55 %\n",
      "zero hit queries:              0\n",
      "zero hit percentage:        0.00 %\n",
      "http request status breakdown:\n",
      "       200 :    16828 \n",
      "\n",
      "Running fbench in container for hybrid queries\n",
      "Output for hybrid queries:\n",
      "Starting clients...\n",
      "Stopping clients\n",
      "Clients stopped.\n",
      ".\n",
      "Clients Joined.\n",
      "*** HTTP keep-alive statistics ***\n",
      "connection reuse count -- 7493\n",
      "***************** Benchmark Summary *****************\n",
      "clients:                       1\n",
      "ran for:                      30 seconds\n",
      "cycle time:                    0 ms\n",
      "lower response limit:          0 bytes\n",
      "skipped requests:              0\n",
      "failed requests:               0\n",
      "successful requests:        7494\n",
      "cycles not held:            7494\n",
      "minimum response time:      1.01 ms\n",
      "maximum response time:    123.40 ms\n",
      "average response time:      3.97 ms\n",
      "25   percentile:              2.80 ms\n",
      "50   percentile:              3.30 ms\n",
      "75   percentile:              4.00 ms\n",
      "90   percentile:              5.00 ms\n",
      "95   percentile:              6.00 ms\n",
      "98   percentile:              8.91 ms\n",
      "99   percentile:             16.82 ms\n",
      "99.5 percentile:             41.41 ms\n",
      "99.6 percentile:             48.01 ms\n",
      "99.7 percentile:             66.01 ms\n",
      "99.8 percentile:             69.91 ms\n",
      "99.9 percentile:             87.22 ms\n",
      "actual query rate:        250.00 Q/s\n",
      "utilization:               99.29 %\n",
      "zero hit queries:              0\n",
      "zero hit percentage:        0.00 %\n",
      "http request status breakdown:\n",
      "       200 :     7494 \n",
      "\n"
     ]
    }
   ],
   "source": [
    "# Define the options and base filenames\n",
    "options = [\"weak_and\", \"semantic\", \"hybrid\"]\n",
    "base_query_file = \"vespa_queries-{}-10k.json\"\n",
    "base_output_file = \"fbench_output_vespa_{}.txt\"\n",
    "result_file = \"fbench_results_vespa_{}.txt\"\n",
    "# Generate the configurations dynamically\n",
    "configs = [\n",
    "    {\n",
    "        \"option\": option,\n",
    "        \"query_file\": base_query_file.format(option),\n",
    "        \"output_file\": base_output_file.format(option),\n",
    "        \"result_file\": result_file.format(option),\n",
    "    }\n",
    "    for option in options\n",
    "]\n",
    "\n",
    "# Loop through each configuration and run the container\n",
    "for config in configs:\n",
    "    print(f\"Running fbench in container for {config['option']} queries\")\n",
    "    output = client.containers.run(\n",
    "        image=\"vespaengine/vespa\",\n",
    "        entrypoint=\"/opt/vespa/bin/vespa-fbench\",  # Set vespa-fbench as the entrypoint\n",
    "        network=docker_network,\n",
    "        command=[\n",
    "            \"-c\",\n",
    "            \"0\",\n",
    "            \"-s\",\n",
    "            \"30\",\n",
    "            \"-n\",\n",
    "            \"1\",\n",
    "            \"-q\",\n",
    "            config[\"query_file\"],\n",
    "            \"-P\",\n",
    "            \"-o\",\n",
    "            config[\"output_file\"],\n",
    "            \"-D\",\n",
    "            container_name,\n",
    "            \"8080\",\n",
    "        ],\n",
    "        volumes={\n",
    "            \"/Users/thomas/Repos/system-test/tests/performance/ecommerce_hybrid_search/dataprep/output-data/final\": {\n",
    "                \"bind\": \"/files\",\n",
    "                \"mode\": \"rw\",\n",
    "            }\n",
    "        },\n",
    "        working_dir=\"/files\",\n",
    "        detach=False,\n",
    "        remove=True,\n",
    "    )\n",
    "\n",
    "    # Wait for the container to finish and print the output\n",
    "    result = output.decode(\"utf-8\")\n",
    "    print(f\"Output for {config['option']} queries:\\n{result}\")\n",
    "    # Save results to a file\n",
    "    with open(config[\"result_file\"], \"w\") as file:\n",
    "        file.write(result)"
   ]
  },
  {
   "cell_type": "markdown",
   "metadata": {},
   "source": [
    "### Cleanup and remove Vespa container\n"
   ]
  },
  {
   "cell_type": "code",
   "execution_count": null,
   "metadata": {},
   "outputs": [],
   "source": [
    "vespa_docker.container.stop()\n",
    "vespa_docker.container.remove()"
   ]
  },
  {
   "cell_type": "markdown",
   "metadata": {},
   "source": [
    "### Compare fbench output\n"
   ]
  },
  {
   "cell_type": "code",
   "execution_count": 115,
   "metadata": {},
   "outputs": [
    {
     "name": "stdout",
     "output_type": "stream",
     "text": [
      "Vespa results cleaned for weak_and - length: 11269\n",
      "Elasticsearch results cleaned for weak_and - length: 5562\n"
     ]
    },
    {
     "data": {
      "image/png": "[encoded data removed]",
      "text/plain": [
       "<Figure size 640x480 with 1 Axes>"
      ]
     },
     "metadata": {},
     "output_type": "display_data"
    },
    {
     "name": "stdout",
     "output_type": "stream",
     "text": [
      "Vespa results cleaned for semantic - length: 16828\n",
      "Elasticsearch results cleaned for semantic - length: 6804\n"
     ]
    },
    {
     "data": {
      "image/png": "[encoded data removed]",
      "text/plain": [
       "<Figure size 640x480 with 1 Axes>"
      ]
     },
     "metadata": {},
     "output_type": "display_data"
    },
    {
     "name": "stdout",
     "output_type": "stream",
     "text": [
      "Vespa results cleaned for hybrid - length: 7494\n",
      "Elasticsearch results cleaned for hybrid - length: 4130\n"
     ]
    },
    {
     "data": {
      "image/png": "[encoded data removed]",
      "text/plain": [
       "<Figure size 640x480 with 1 Axes>"
      ]
     },
     "metadata": {},
     "output_type": "display_data"
    }
   ],
   "source": [
    "import json\n",
    "from typing import Dict\n",
    "import seaborn as sns\n",
    "import matplotlib.pyplot as plt\n",
    "import logging\n",
    "\n",
    "\n",
    "def clean_results(result_file_path: str) -> Dict:\n",
    "    vespa_in_file = \"vespa\" in result_file_path\n",
    "    es_in_file = \"es\" in result_file_path\n",
    "    if vespa_in_file:\n",
    "        application = \"vespa\"\n",
    "    elif es_in_file:\n",
    "        application = \"es\"\n",
    "    else:\n",
    "        raise ValueError(\"File must be either vespa or es\")\n",
    "    all_results = {}\n",
    "    query_id_counter = 1\n",
    "    with open(result_file_path, \"r\") as file:\n",
    "        lines = file.readlines()\n",
    "        # Loop through each line in the file\n",
    "        for line in lines:\n",
    "            # keep only lines starting with {}\n",
    "            if line.startswith(\"{\"):\n",
    "                # Load the line as a dictionary\n",
    "                result_dict = json.loads(line)\n",
    "                if application == \"es\":\n",
    "                    # Extract hits from the dictionary\n",
    "                    hits = result_dict[\"hits\"][\"hits\"]\n",
    "                    # Exctract id and score (named relevance) from each hit\n",
    "                    individual_results = [\n",
    "                        {\"id\": int(hit[\"_id\"]), \"relevance\": hit[\"_score\"]}\n",
    "                        for hit in hits\n",
    "                    ]\n",
    "                elif application == \"vespa\":\n",
    "                    # Extract the query_id from the dictionary\n",
    "                    children = result_dict[\"root\"][\"children\"]\n",
    "                    individual_results = [\n",
    "                        {\"id\": child[\"fields\"][\"id\"], \"relevance\": child[\"relevance\"]}\n",
    "                        for child in children\n",
    "                    ]\n",
    "                # Assert length of results\n",
    "                assert len(individual_results) <= 10, individual_results\n",
    "                all_results[query_id_counter] = individual_results\n",
    "                query_id_counter += 1\n",
    "    return all_results\n",
    "\n",
    "\n",
    "def calculate_overlaps(\n",
    "    vespa_fbench_output_path: str, es_fbench_output_path: str\n",
    ") -> float:\n",
    "    vespa_results: dict = clean_results(vespa_fbench_output_path)\n",
    "    print(f\"Vespa results cleaned for {query_mode} - length: {len(vespa_results)}\")\n",
    "    es_results: dict = clean_results(es_fbench_output_path)\n",
    "    print(f\"Elasticsearch results cleaned for {query_mode} - length: {len(es_results)}\")\n",
    "    # Now we want to calculate the number of overlapping results in the top 10 for each query\n",
    "    # We need to take only the lowest number of queries across the two systems\n",
    "    min_queries = min(len(vespa_results), len(es_results))\n",
    "    # Initialize the overlap counter\n",
    "    overlap = {}\n",
    "    # Loop through each query\n",
    "    for query_id in range(1, min_queries + 1):\n",
    "        # Get the top 10 results for each system\n",
    "        vespa_top_10 = {result[\"id\"] for result in vespa_results[query_id][:10]}\n",
    "        es_top_10 = {result[\"id\"] for result in es_results[query_id][:10]}\n",
    "        # Calculate the overlap\n",
    "        overlap[query_id] = len(vespa_top_10.intersection(es_top_10)) / 10\n",
    "    return overlap\n",
    "\n",
    "\n",
    "def plot_overlap(overlap: dict):\n",
    "    # Plot a histogram of the overlap\n",
    "    # One bin per 0.1 interval\n",
    "\n",
    "    bins = [x / 10 for x in range(11)]\n",
    "    # Create the histogram\n",
    "    sns.histplot(overlap.values(), bins=bins)\n",
    "    # Set the title\n",
    "    plt.title(f\"Overlap in the top 10 results for weak_and and {query_mode}\")\n",
    "    # Set a legend with total number of queries\n",
    "    plt.legend([f\"Evaluated queries: {len(overlap)}\"])\n",
    "    # Add another legend in center of plot with average overlap (to 2 decimal places)\n",
    "    plt.text(\n",
    "        0.5,\n",
    "        0.5,\n",
    "        f\"Average overlap: {sum(overlap.values())/len(overlap):.2f}\",\n",
    "        horizontalalignment=\"center\",\n",
    "        verticalalignment=\"center\",\n",
    "        transform=plt.gca().transAxes,\n",
    "    )\n",
    "    # Show the plot\n",
    "    return plt.show()\n",
    "\n",
    "\n",
    "# File path to the uploaded file\n",
    "querymodes = [\"weak_and\", \"semantic\", \"hybrid\"]\n",
    "\n",
    "for query_mode in querymodes:\n",
    "    vespa_fbench_output_path = (\n",
    "        f\"../dataprep/output-data/final/fbench_output_vespa_{query_mode}.txt\"\n",
    "    )\n",
    "    es_fbench_output_path = (\n",
    "        f\"../dataprep/output-data/final/fbench_output_es_{query_mode}.txt\"\n",
    "    )\n",
    "    overlap = calculate_overlaps(vespa_fbench_output_path, es_fbench_output_path)\n",
    "    plot_overlap(overlap)\n"
   ]
  },
  {
   "cell_type": "code",
   "execution_count": null,
   "metadata": {},
   "outputs": [],
   "source": []
  }
 ],
 "metadata": {
  "kernelspec": {
   "display_name": "Python 3",
   "language": "python",
   "name": "python3"
  },
  "language_info": {
   "codemirror_mode": {
    "name": "ipython",
    "version": 3
   },
   "file_extension": ".py",
   "mimetype": "text/x-python",
   "name": "python",
   "nbconvert_exporter": "python",
   "pygments_lexer": "ipython3",
   "version": "3.10.13"
  }
 },
 "nbformat": 4,
 "nbformat_minor": 2
}
