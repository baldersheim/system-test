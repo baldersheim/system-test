{
 "cells": [
  {
   "cell_type": "markdown",
   "metadata": {},
   "source": [
    "## Running the Elasticsearch docker container\n",
    "\n",
    "```bash\n",
    "docker run -p 9200:9200 -d --name elasticsearch --rm \\\n",
    "  -e \"discovery.type=single-node\" \\\n",
    "  -e \"xpack.security.enabled=false\" \\\n",
    "  -e \"xpack.security.http.ssl.enabled=false\" \\\n",
    "  -e \"xpack.license.self_generated.type=trial\" \\\n",
    "  docker.elastic.co/elasticsearch/elasticsearch:8.13.0\n",
    "```\n"
   ]
  },
  {
   "cell_type": "code",
   "execution_count": 4,
   "metadata": {},
   "outputs": [],
   "source": [
    "from elasticsearch import Elasticsearch\n",
    "import json\n",
    "\n",
    "es = Elasticsearch(\"http://localhost:9200\")"
   ]
  },
  {
   "cell_type": "code",
   "execution_count": 7,
   "metadata": {},
   "outputs": [],
   "source": [
    "index_name = \"product\"\n",
    "\n",
    "# Delete the index if it exists\n",
    "if es.indices.exists(index=index_name):\n",
    "    es.indices.delete(index=index_name)"
   ]
  },
  {
   "cell_type": "code",
   "execution_count": 8,
   "metadata": {},
   "outputs": [
    {
     "data": {
      "text/plain": [
       "ObjectApiResponse({'acknowledged': True, 'shards_acknowledged': True, 'index': 'product'})"
      ]
     },
     "execution_count": 8,
     "metadata": {},
     "output_type": "execute_result"
    }
   ],
   "source": [
    "index_settings = {\n",
    "    \"settings\": {\"number_of_shards\": 1, \"number_of_replicas\": 1},\n",
    "    \"mappings\": {\n",
    "        \"properties\": {\n",
    "            \"id\": {\"type\": \"integer\"},\n",
    "            \"title\": {\"type\": \"text\", \"similarity\": \"BM25\"},\n",
    "            \"description\": {\"type\": \"text\", \"similarity\": \"BM25\"},\n",
    "            \"category\": {\"type\": \"keyword\"},\n",
    "            \"price\": {\"type\": \"integer\"},\n",
    "            \"average_rating\": {\"type\": \"float\"},\n",
    "            \"embedding\": {\n",
    "                \"type\": \"dense_vector\",\n",
    "                \"dims\": 384,\n",
    "                \"index\": True,\n",
    "                \"similarity\": \"cosine\",\n",
    "                # See https://www.elastic.co/guide/en/elasticsearch/reference/current/dense-vector.html\n",
    "                \"index_options\": {\"type\": \"hnsw\", \"ef_construction\": 200, \"m\": 16},\n",
    "            },\n",
    "        },\n",
    "    },\n",
    "}\n",
    "\n",
    "# Create the index\n",
    "es.indices.create(index=index_name, body=index_settings)"
   ]
  },
  {
   "cell_type": "code",
   "execution_count": 4,
   "metadata": {},
   "outputs": [
    {
     "data": {
      "text/plain": [
       "{'product_index': {'mappings': {'properties': {'average_rating': {'type': 'float'},\n",
       "    'category': {'type': 'keyword'},\n",
       "    'description': {'type': 'text', 'similarity': 'BM25'},\n",
       "    'embedding': {'type': 'dense_vector',\n",
       "     'dims': 384,\n",
       "     'index': True,\n",
       "     'similarity': 'cosine',\n",
       "     'index_options': {'type': 'hnsw', 'm': 16, 'ef_construction': 200}},\n",
       "    'id': {'type': 'integer'},\n",
       "    'price': {'type': 'integer'},\n",
       "    'title': {'type': 'text', 'similarity': 'BM25'}}}}}"
      ]
     },
     "execution_count": 4,
     "metadata": {},
     "output_type": "execute_result"
    }
   ],
   "source": [
    "# Pretty-print the mapping\n",
    "mapping = es.indices.get_mapping(index=index_name)\n",
    "mapping.raw"
   ]
  },
  {
   "cell_type": "markdown",
   "metadata": {},
   "source": [
    "## Feed the data to the Elasticsearch\n"
   ]
  },
  {
   "cell_type": "code",
   "execution_count": null,
   "metadata": {},
   "outputs": [],
   "source": [
    "!curl -s -H \"Content-Type: application/x-ndjson\" -XPOST localhost:9200/_bulk --data-binary \"@../dataprep/output-data/es_sample-100.jsonl\"; echo"
   ]
  },
  {
   "cell_type": "code",
   "execution_count": 9,
   "metadata": {},
   "outputs": [
    {
     "name": "stdout",
     "output_type": "stream",
     "text": [
      "Hybrid search results: {\n",
      "    \"took\": 85,\n",
      "    \"timed_out\": false,\n",
      "    \"_shards\": {\n",
      "        \"total\": 1,\n",
      "        \"successful\": 1,\n",
      "        \"skipped\": 0,\n",
      "        \"failed\": 0\n",
      "    },\n",
      "    \"hits\": {\n",
      "        \"total\": {\n",
      "            \"value\": 2,\n",
      "            \"relation\": \"eq\"\n",
      "        },\n",
      "        \"max_score\": null,\n",
      "        \"hits\": [\n",
      "            {\n",
      "                \"_index\": \"product\",\n",
      "                \"_id\": \"843195\",\n",
      "                \"_score\": null,\n",
      "                \"_rank\": 1,\n",
      "                \"fields\": {\n",
      "                    \"description\": [\n",
      "                        \"Stickers are printed in high resolution to capture every detail of the image. We know that a sticker is only as good as its adhesive. Like the vinyl we use, we set out to find the best adhesive. All of our stickers have a very strong adhesive that still keeps the surface intact if it needs to be removed. We make our stickers with premium vinyl to withstand exposure to wind, rain and sunlight. The stickers are coated with a protective UV laminate that makes them super durable and resistant to fading, tearing, and water. Depending on conditions, our stickers are fade resistant for 3 to 5 years. Our stickers will stick on just about any flat surface including wood, metal, glass, bumpers, lockers and much more.\"\n",
      "                    ],\n",
      "                    \"title\": [\n",
      "                        \"Danger High Voltage Peligro Alto Voltaje Style 3 Label Decal Sticker Sticks to Any Surface\"\n",
      "                    ]\n",
      "                }\n",
      "            },\n",
      "            {\n",
      "                \"_index\": \"product\",\n",
      "                \"_id\": \"69903\",\n",
      "                \"_score\": null,\n",
      "                \"_rank\": 2,\n",
      "                \"fields\": {\n",
      "                    \"description\": [\n",
      "                        \" 65 years     \"\n",
      "                    ],\n",
      "                    \"title\": [\n",
      "                        \"United Nations: A History\"\n",
      "                    ]\n",
      "                }\n",
      "            }\n",
      "        ]\n",
      "    }\n",
      "}\n"
     ]
    }
   ],
   "source": [
    "keyword = \"algorithms\"\n",
    "hybrid_query = {\n",
    "    \"query\": {\n",
    "        \"multi_match\": {\n",
    "            \"query\": \"algorithm\",\n",
    "            \"fields\": [\"title\", \"description\"],  # Fields to search\n",
    "            \"type\": \"best_fields\",  # Use best_fields to treat the fields as a single combined field\n",
    "            \"tie_breaker\": 0.5,  # Manage the scoring between fields (set to 0 for no effect of secondary matches)\n",
    "        }\n",
    "    },\n",
    "    \"knn\": {\"field\": \"embedding\", \"query_vector\": [0.7] * 384, \"k\": 2},\n",
    "    \"rank\": {\"rrf\": {}},\n",
    "    \"_source\": False,\n",
    "    \"fields\": [\"title\", \"description\"],\n",
    "}\n",
    "results = es.search(index=index_name, body=hybrid_query)\n",
    "print(\"Hybrid search results:\", json.dumps(results.raw, indent=4))"
   ]
  },
  {
   "cell_type": "code",
   "execution_count": 63,
   "metadata": {},
   "outputs": [
    {
     "name": "stdout",
     "output_type": "stream",
     "text": [
      "Hybrid search results: {\n",
      "    \"took\": 33,\n",
      "    \"timed_out\": false,\n",
      "    \"_shards\": {\n",
      "        \"total\": 1,\n",
      "        \"successful\": 1,\n",
      "        \"skipped\": 0,\n",
      "        \"failed\": 0\n",
      "    },\n",
      "    \"hits\": {\n",
      "        \"total\": {\n",
      "            \"value\": 2,\n",
      "            \"relation\": \"eq\"\n",
      "        },\n",
      "        \"max_score\": null,\n",
      "        \"hits\": [\n",
      "            {\n",
      "                \"_index\": \"product_index\",\n",
      "                \"_id\": \"2\",\n",
      "                \"_score\": null,\n",
      "                \"_rank\": 1,\n",
      "                \"fields\": {\n",
      "                    \"price\": [\n",
      "                        100\n",
      "                    ],\n",
      "                    \"title\": [\n",
      "                        \"Introduction to Algorithms\"\n",
      "                    ]\n",
      "                }\n",
      "            },\n",
      "            {\n",
      "                \"_index\": \"product_index\",\n",
      "                \"_id\": \"1\",\n",
      "                \"_score\": null,\n",
      "                \"_rank\": 2,\n",
      "                \"fields\": {\n",
      "                    \"price\": [\n",
      "                        200\n",
      "                    ],\n",
      "                    \"title\": [\n",
      "                        \"The Art of Computer Programming\"\n",
      "                    ]\n",
      "                }\n",
      "            }\n",
      "        ]\n",
      "    }\n",
      "}\n"
     ]
    }
   ],
   "source": [
    "results = es.search(\n",
    "    query={\n",
    "        \"bool\": {\n",
    "            \"must\": {\"match\": {\"description\": \"computer\"}},\n",
    "            # If we want to filter by price, we can add a filter clause\n",
    "            \"filter\": {\"range\": {\"price\": {\"lt\": 150}}},\n",
    "        }\n",
    "    },\n",
    "    knn={\n",
    "        \"field\": \"embedding\",\n",
    "        \"query_vector\": [0.7] * 384,\n",
    "        \"k\": 3,\n",
    "        \"num_candidates\": 5,\n",
    "    },\n",
    "    rank={\"rrf\": {}},\n",
    "    size=5,\n",
    "    fields=[\"title\", \"price\"],\n",
    "    # Disable source retrieval - only return the fields specified in the `fields` parameter\n",
    "    _source=False,\n",
    ")\n",
    "\n",
    "print(\"Hybrid search results:\", json.dumps(results.raw, indent=4))"
   ]
  },
  {
   "cell_type": "code",
   "execution_count": null,
   "metadata": {},
   "outputs": [],
   "source": []
  }
 ],
 "metadata": {
  "kernelspec": {
   "display_name": "Python 3",
   "language": "python",
   "name": "python3"
  },
  "language_info": {
   "codemirror_mode": {
    "name": "ipython",
    "version": 3
   },
   "file_extension": ".py",
   "mimetype": "text/x-python",
   "name": "python",
   "nbconvert_exporter": "python",
   "pygments_lexer": "ipython3",
   "version": "3.10.13"
  }
 },
 "nbformat": 4,
 "nbformat_minor": 2
}
